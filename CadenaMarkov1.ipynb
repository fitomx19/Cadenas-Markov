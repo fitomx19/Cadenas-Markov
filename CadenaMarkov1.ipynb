{
 "cells": [
  {
   "cell_type": "markdown",
   "metadata": {},
   "source": [
    "## Calculadora de Cadenas de Markov"
   ]
  },
  {
   "cell_type": "code",
   "execution_count": 6,
   "metadata": {},
   "outputs": [],
   "source": [
    "import numpy as np "
   ]
  },
  {
   "cell_type": "markdown",
   "metadata": {},
   "source": [
    "### Utilizaremos el siguiente ejemplo para poder probar el software\n",
    "\n",
    "<center><img src=\"IMAGENRESULTANTE.jpg\" alt=\"No hay imagen\" /></center>\n",
    "\n"
   ]
  },
  {
   "cell_type": "markdown",
   "metadata": {},
   "source": [
    "Paso 1.- Definimos el arreglo inicial y le damos forma.\n",
    "En este caso es de $5x5$ entonces lo dejaremos de esta siguiente manera ->"
   ]
  },
  {
   "cell_type": "code",
   "execution_count": 7,
   "metadata": {},
   "outputs": [],
   "source": [
    "a = np.array([0,0.5,0,0,0.5,0.5,0,0.5,0,0,0,0.5,0,0.5,0,0,0,0.5,0,0.5,0.5,0,0,0.5,0])\n",
    "newarr = a.reshape(5, 5)"
   ]
  },
  {
   "cell_type": "markdown",
   "metadata": {},
   "source": [
    "Paso 2.- Visualizamos que nos salio correctamente --->"
   ]
  },
  {
   "cell_type": "code",
   "execution_count": 8,
   "metadata": {},
   "outputs": [
    {
     "name": "stdout",
     "output_type": "stream",
     "text": [
      "[[0.  0.5 0.  0.  0.5]\n",
      " [0.5 0.  0.5 0.  0. ]\n",
      " [0.  0.5 0.  0.5 0. ]\n",
      " [0.  0.  0.5 0.  0.5]\n",
      " [0.5 0.  0.  0.5 0. ]]\n"
     ]
    }
   ],
   "source": [
    "print(newarr)"
   ]
  },
  {
   "cell_type": "markdown",
   "metadata": {},
   "source": [
    "Paso 3.- Se van a definir las condiciones iniciales en 1 , para cada uno de los eventos, por eso lo vemos como valores de pivoteo en zero,one,two.\n",
    "y para reforzar los cambiamos a la forma 5,1 para que nos queden de manera vertical"
   ]
  },
  {
   "cell_type": "code",
   "execution_count": 9,
   "metadata": {},
   "outputs": [],
   "source": [
    "def iteraciones(numero):\n",
    "\n",
    "    #validamos que sea un numero mayor a uno, recuerden que solo acepta enteros dado que se ocupara la variable\n",
    "    #numero pare realizar iteraciones ---->\n",
    "\n",
    "    #creamos los valores iniciales\n",
    "    if(numero>=1):\n",
    "        zero = np.array([1,0,0,0,0]).reshape(5, 1)\n",
    "        one = np.array([0,1,0,0,0]).reshape(5, 1)\n",
    "        two = np.array([0,0,1,0,0]).reshape(5, 1)\n",
    "        three = np.array([0,0,0,1,0]).reshape(5, 1)\n",
    "        four = np.array([0,0,0,0,1]).reshape(5, 1)\n",
    "    #sugerencia: pueden mejorar este codigo añadiendo listas para crear las variables iniciales de forma dinamica\n",
    "\n",
    "\n",
    "    #iteramos el numero de veces que se quiera realizar iteraciones\n",
    "    for x in range(numero):\n",
    "\n",
    "        #realizamos producto punto de cada uno de los estados iniciales por la matriz de transciocion\n",
    "        zeroo = np.dot(newarr, zero).reshape(1,5) \n",
    "        onee = np.dot(newarr,one).reshape(1,5)\n",
    "        twoo = np.dot(newarr,two).reshape(1,5)\n",
    "        threee = np.dot(newarr,three).reshape(1,5)\n",
    "        fourr = np.dot(newarr,four).reshape(1,5)\n",
    "\n",
    "        #crearemos la nueva matriz de transicion , apilando cada uno de los arreglos anteriores\n",
    "        nuevoarreglo = np.append(zeroo,onee)\n",
    "        nuevoarreglo = np.append(nuevoarreglo,twoo)\n",
    "        nuevoarreglo = np.append(nuevoarreglo,threee)\n",
    "        nuevoarreglo = np.append(nuevoarreglo,fourr)\n",
    "\n",
    "        #seleccionamos nuevamente los valores para que continuen las iteraciones\n",
    "        zero = (nuevoarreglo[:5])  \n",
    "        one = (nuevoarreglo[5:10])  \n",
    "        two = (nuevoarreglo[10:15])  \n",
    "        three = (nuevoarreglo[15:20]) \n",
    "        four = (nuevoarreglo[20:25]) \n",
    "\n",
    "    #para terminar construimos nuevamente la matriz final\n",
    "    arreglo = np.append(zero,one)\n",
    "    arreglo = np.append(arreglo,two)\n",
    "    arreglo = np.append(arreglo,three)\n",
    "    arreglo = np.append(arreglo,four)\n",
    "\n",
    "    #la mostramos en pantalla con su respectiva forma 5x5\n",
    "    print(arreglo.reshape(5,5))\n"
   ]
  },
  {
   "cell_type": "code",
   "execution_count": 10,
   "metadata": {},
   "outputs": [
    {
     "name": "stdout",
     "output_type": "stream",
     "text": [
      "[[0.3125   0.109375 0.234375 0.234375 0.109375]\n",
      " [0.109375 0.3125   0.109375 0.234375 0.234375]\n",
      " [0.234375 0.109375 0.3125   0.109375 0.234375]\n",
      " [0.234375 0.234375 0.109375 0.3125   0.109375]\n",
      " [0.109375 0.234375 0.234375 0.109375 0.3125  ]]\n"
     ]
    }
   ],
   "source": [
    "#Basta con escribir el nombre de la funcion para mandarla a llamar\n",
    "iteraciones(6)"
   ]
  }
 ],
 "metadata": {
  "kernelspec": {
   "display_name": "Python 3.8.8 ('base')",
   "language": "python",
   "name": "python3"
  },
  "language_info": {
   "codemirror_mode": {
    "name": "ipython",
    "version": 3
   },
   "file_extension": ".py",
   "mimetype": "text/x-python",
   "name": "python",
   "nbconvert_exporter": "python",
   "pygments_lexer": "ipython3",
   "version": "3.8.8"
  },
  "orig_nbformat": 4,
  "vscode": {
   "interpreter": {
    "hash": "34b55518da5f5f3b3cb061bdbc6b11a46f890e8468c486f3ef8d87ea42bc14e1"
   }
  }
 },
 "nbformat": 4,
 "nbformat_minor": 2
}
